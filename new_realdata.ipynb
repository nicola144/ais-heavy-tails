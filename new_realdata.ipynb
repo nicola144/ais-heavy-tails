{
 "cells": [
  {
   "cell_type": "code",
   "execution_count": null,
   "outputs": [],
   "source": [
    "from sklearn.datasets import load_svmlight_file\n",
    "import numpy as np\n",
    "\n",
    "\n",
    "# Path to the local dataset file\n",
    "file_path = \"/Users/nicolabranchini/Downloads/breast-cancer_scale\"\n",
    "\n",
    "# Load the LIBSVM format data into Python\n",
    "X, y = load_svmlight_file(file_path)\n",
    "\n",
    "# X: The feature matrix with shape (num_samples, num_features)\n",
    "# y: The target vector with shape (num_samples,)\n"
   ],
   "metadata": {
    "collapsed": false
   }
  },
  {
   "cell_type": "code",
   "execution_count": null,
   "outputs": [],
   "source": [
    "X"
   ],
   "metadata": {
    "collapsed": false
   }
  },
  {
   "cell_type": "code",
   "execution_count": null,
   "outputs": [],
   "source": [
    "# Generate 20 random indices, without replacement\n",
    "random_indices = np.random.choice(X.shape[0], 20, replace=False)\n",
    "\n",
    "# Subsample X and y\n",
    "X_subsample = X[random_indices, :]\n",
    "y_subsample = y[random_indices]\n",
    "\n",
    "# Convert sparse matrix X_subsample to dense format if desired\n",
    "X_subsample_dense = X_subsample.toarray()"
   ],
   "metadata": {
    "collapsed": false
   }
  },
  {
   "cell_type": "code",
   "execution_count": null,
   "outputs": [],
   "source": [
    "X_subsample_dense"
   ],
   "metadata": {
    "collapsed": false
   }
  },
  {
   "cell_type": "code",
   "execution_count": null,
   "outputs": [],
   "source": [
    "y_subsample.shape"
   ],
   "metadata": {
    "collapsed": false
   }
  },
  {
   "cell_type": "code",
   "execution_count": null,
   "outputs": [],
   "source": [],
   "metadata": {
    "collapsed": false
   }
  }
 ],
 "metadata": {
  "kernelspec": {
   "display_name": "Python 3",
   "language": "python",
   "name": "python3"
  },
  "language_info": {
   "codemirror_mode": {
    "name": "ipython",
    "version": 2
   },
   "file_extension": ".py",
   "mimetype": "text/x-python",
   "name": "python",
   "nbconvert_exporter": "python",
   "pygments_lexer": "ipython2",
   "version": "2.7.6"
  }
 },
 "nbformat": 4,
 "nbformat_minor": 0
}

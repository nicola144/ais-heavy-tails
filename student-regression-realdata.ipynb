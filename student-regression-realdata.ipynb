{
 "cells": [
  {
   "cell_type": "markdown",
   "metadata": {
    "collapsed": false,
    "jupyter": {
     "outputs_hidden": false
    }
   },
   "source": [
    "### Example E.5.3. BAYESIAN STUDENT-T REGRESSION from https://openreview.net/pdf?id=HltJfwwfhX"
   ]
  },
  {
   "cell_type": "code",
   "execution_count": null,
   "metadata": {
    "collapsed": false,
    "jupyter": {
     "outputs_hidden": false
    }
   },
   "outputs": [],
   "source": [
    "import pystan\n",
    "import pandas as pd\n",
    "import numpy as np\n",
    "import requests\n",
    "import sys\n",
    "from rpy2.robjects import pandas2ri\n",
    "from rpy2.robjects.conversion import rpy2py\n",
    "import rpy2.robjects as ro\n",
    "import json\n",
    "import jax\n",
    "from collections import OrderedDict\n",
    "import gc\n",
    "import os\n",
    "\n",
    "from scipy.special import logsumexp\n",
    "\n",
    "from amis_algorithms import alpha_AMIS_fixed_dof, AMIS_student_fixed_dof\n",
    "\n",
    "import bridgestan\n",
    "\n",
    "from utils import old_ksd\n",
    "\n",
    "import matplotlib.pyplot as plt\n",
    "\n",
    "import pickle\n",
    "\n",
    "# Enable LaTeX for nicer plotting\n",
    "plt.rc('text', usetex=True)\n",
    "plt.rc('font', family='serif')\n",
    "\n",
    "\n",
    "# from tueplots import bundles\n",
    "# plt.rcParams.update(bundles.aistats2023())\n",
    "\n",
    "from experiments_amis import run_AMIS_real_dataset\n",
    "\n",
    "\n",
    "# Load and prepare the dataset\n",
    "url = \"https://github.com/faosorios/heavy/blob/master/data/creatinine.rda?raw=true\"\n",
    "with requests.get(url) as resp:\n",
    "    with open(\"creatinine.rda\", \"wb\") as f:\n",
    "        f.write(resp.content)\n",
    "\n",
    "# Load RDA file into Python\n",
    "ro.r['load'](\"creatinine.rda\")\n",
    "df = pandas2ri.rpy2py_dataframe(ro.r['creatinine'])\n",
    "\n",
    "data_df = pd.DataFrame(columns=['log_SC', 'log_WT', 'log_140_minus_A', 'log_CR'])\n",
    "\n",
    "# Apply transformations following https://openreview.net/pdf?id=HltJfwwfhX\n",
    "data_df['log_SC'] = np.log(df['SC'])\n",
    "data_df['log_WT'] = np.log(df['WT'])\n",
    "data_df['log_CR'] = np.log(df['CR'])\n",
    "data_df['log_140_minus_A'] = np.log(140 - df['Age'])\n",
    "data_df = data_df.dropna() # remove any rows with NaN values after transformation\n",
    "\n",
    "# Compile the Stan model\n",
    "sm = pystan.StanModel(file=\"./student_reg_model.stan\")\n",
    "\n",
    "# Prepare data for Stan model\n",
    "data_for_stan = {\n",
    "    'N': len(data_df),\n",
    "    'x1': data_df['log_SC'].values.tolist(),\n",
    "    'x2': data_df['log_WT'].values.tolist(),\n",
    "    'x3': data_df['log_140_minus_A'].values.tolist(),\n",
    "    'y': data_df['log_CR'].values.tolist()  # response variable\n",
    "}\n",
    "\n",
    "# Save the data dictionary to a JSON file\n",
    "with open(\"student_regression_data.json\", \"w\") as f:\n",
    "    json.dump(data_for_stan, f, indent=4)\n",
    "\n",
    "\n",
    "# Fit the model and sample from the posterior using NUTS (NUTS paper: https://arxiv.org/abs/1111.4246)\n",
    "fit = sm.sampling(data=data_for_stan, iter=100, chains=1)\n",
    "mcmc_samples = fit.extract()\n",
    "\n",
    "stan = \"./student_reg_model.stan\"\n",
    "data = \"./student_regression_data.json\"\n",
    "bridgestan_model = bridgestan.StanModel.from_stan_file(stan, data)\n",
    "\n",
    "true_log_pdf = fit.log_prob\n",
    "\n",
    "# Step 3: Find the MAP solution\n",
    "map_sol = sm.optimizing(data=data_for_stan)\n",
    "\n",
    "# Retrieve the values, extract the single element from each array, and convert to an ndarray\n",
    "map_sol_array = np.array([value.item() for value in map_sol.values()])\n",
    "\n",
    "map_sol_list = list(map_sol.values())\n",
    "log_dens_at_map, _, hessian_at_map = bridgestan_model.log_density_hessian(theta_unc=map_sol_array, propto=True)\n",
    "\n"
   ]
  },
  {
   "cell_type": "code",
   "execution_count": null,
   "outputs": [],
   "source": [
    "\n",
    "dim = 4 # Fixed\n",
    "dof_proposal = 3\n",
    "mu_initial_proposal_laplace = map_sol_array\n",
    "\n",
    "assert np.isclose(log_dens_at_map, fit.log_prob(map_sol_list))\n",
    "\n",
    "# Negative inverse of the Hessian at the MAP solution used as covariance\n",
    "cov_laplace = -np.linalg.inv(hessian_at_map)\n",
    "assert np.all(np.linalg.eigvals(cov_laplace) > 0)\n",
    "shape_initial_proposal_laplace = (dof_proposal - 2) / (dof_proposal) * cov_laplace\n",
    "\n",
    "\n",
    "sigma_initial = 10\n",
    "shape_initial = (dof_proposal - 2) / (dof_proposal) * sigma_initial * np.identity(dim)\n",
    "\n",
    "# num_samples = int(1e5)\n",
    "n_iter = 25\n",
    "nb_runs = 1000\n",
    "\n",
    "# random_mu_initial = np.random.multivariate_normal(mean=np.zeros(dim), cov=np.identity(dim), size=1)\n",
    "# random_mu_initial = np.random.uniform(-1, 1, dim)\n",
    "# shape_initial_proposal = (dof_proposal - 2) / (dof_proposal) * np.identity(dim)\n",
    "mu_initial = np.ones(dim)\n",
    "\n",
    "assert np.all(np.linalg.eigvals(shape_initial_proposal_laplace) > 0)\n",
    "\n",
    "mu_initial = mu_initial_proposal_laplace\n",
    "shape_initial = shape_initial_proposal_laplace\n",
    "\n",
    "\n",
    "start = 1000\n",
    "end = 5000\n",
    "\n",
    "# Define the number of points you want\n",
    "num_points = 5  # for example\n",
    "\n",
    "# Generate equally spaced values between start and end\n",
    "values = np.linspace(start, end, num_points)\n",
    "\n",
    "# Convert the values to integers\n",
    "int_values = values.astype(int)\n",
    "\n",
    "list_num_samples = int_values\n",
    "\n",
    "# mean_Z_all, std_Z_all, mean_ESS_all, mean_alphaESS_all, std_ESS_all, std_alphaESS_all = [], [], [], [], [], []\n",
    "# mean_Z_baseline_all, std_Z_baseline_all, mean_ESS_baseline_all, mean_alphaESS_baseline_all, std_ESS_baseline_all, std_alphaESS_baseline_all = [], [], [], [], [], []\n",
    "# print(list_num_samples)\n"
   ],
   "metadata": {
    "collapsed": false
   }
  },
  {
   "cell_type": "code",
   "execution_count": null,
   "outputs": [],
   "source": [
    "for num_samples in list_num_samples:\n",
    "\n",
    "    if os.path.exists('./results/realdata/AMIS/' + 'Laplaceinit_' + \"_\" + str(num_samples) + \"_dof_\" + str(dof_proposal) + \"_nbruns_\" + str(nb_runs) + \"_niter_\" + str(n_iter) + \"_meanZ_baseline.npy\"):\n",
    "        print('Already done with ', num_samples)\n",
    "        continue\n",
    "\n",
    "    print('num_samples', num_samples)\n",
    "\n",
    "    mean_Z_baseline, std_Z_baseline, mean_ESS_baseline, mean_alphaESS_baseline, std_ESS_baseline, std_alphaESS_baseline, adapted_proposal_AMIS = run_AMIS_real_dataset(alg=AMIS_student_fixed_dof, nb_runs=nb_runs, n_iterations=n_iter, log_pi_tilde=true_log_pdf, dof_proposal=dof_proposal, M=num_samples, d=dim, mu_initial=mu_initial, shape_initial=shape_initial)\n",
    "\n",
    "\n",
    "    mean_Z, std_Z, mean_ESS, mean_alphaESS, std_ESS, std_alphaESS, adapted_proposal_alpha_AMIS = run_AMIS_real_dataset(alg=alpha_AMIS_fixed_dof, nb_runs=nb_runs, n_iterations=n_iter, log_pi_tilde=true_log_pdf, dof_proposal=dof_proposal, M=num_samples, d=dim, mu_initial=mu_initial, shape_initial=shape_initial)\n",
    "\n",
    "    # print(mean_Z_baseline.shape)\n",
    "    # print(mean_ESS_baseline.shape)\n",
    "\n",
    "    np.save('./results/realdata/AMIS/' + 'Laplaceinit_' + \"_\" + str(num_samples) + \"_dof_\" + str(dof_proposal) + \"_nbruns_\" + str(nb_runs) + \"_niter_\" + str(n_iter) + \"_meanZ_baseline.npy\", mean_Z_baseline)\n",
    "    np.save('./results/realdata/AMIS/' + 'Laplaceinit_' + \"_\" + str(num_samples) + \"_dof_\" + str(dof_proposal) + \"_nbruns_\" + str(nb_runs) + \"_niter_\" + str(n_iter) + \"_stdZ_baseline.npy\", std_Z_baseline)\n",
    "    np.save('./results/realdata/AMIS/' + 'Laplaceinit_' + \"_\" + str(num_samples) + \"_dof_\" + str(dof_proposal) + \"_nbruns_\" + str(nb_runs) + \"_niter_\" + str(n_iter) + \"_mean_ESS_baseline.npy\", mean_ESS_baseline)\n",
    "    np.save('./results/realdata/AMIS/' + 'Laplaceinit_' + \"_\" + str(num_samples) + \"_dof_\" + str(dof_proposal) + \"_nbruns_\" + str(nb_runs) + \"_niter_\" + str(n_iter) + \"_std_ESS_baseline.npy\", std_ESS_baseline)\n",
    "    np.save('./results/realdata/AMIS/' + 'Laplaceinit_' + \"_\" + str(num_samples) + \"_dof_\" + str(dof_proposal) + \"_nbruns_\" + str(nb_runs) + \"_niter_\" + str(n_iter) + \"_mean_alphaESS_baseline.npy\", mean_alphaESS_baseline)\n",
    "    np.save('./results/realdata/AMIS/' + 'Laplaceinit_' + \"_\" + str(num_samples) + \"_dof_\" + str(dof_proposal) + \"_nbruns_\" + str(nb_runs) + \"_niter_\" + str(n_iter) + \"_std_alphaESS_baseline.npy\", std_alphaESS_baseline)\n",
    "\n",
    "\n",
    "    np.save('./results/realdata/alphaAMIS/' + 'Laplaceinit_' + \"_\" + str(num_samples) + \"_dof_\" + str(dof_proposal) + \"_nbruns_\" + str(nb_runs) + \"_niter_\" + str(n_iter) + \"_mean_Z.npy\", mean_Z)\n",
    "    np.save('./results/realdata/alphaAMIS/' + 'Laplaceinit_' + \"_\" + str(num_samples) + \"_dof_\" + str(dof_proposal) + \"_nbruns_\" + str(nb_runs) + \"_niter_\" + str(n_iter) + \"_std_Z.npy\", std_Z)\n",
    "    np.save('./results/realdata/alphaAMIS/' + 'Laplaceinit_' + \"_\" + str(num_samples) + \"_dof_\" + str(dof_proposal) + \"_nbruns_\" + str(nb_runs) + \"_niter_\" + str(n_iter) + \"_mean_ESS.npy\", mean_ESS)\n",
    "    np.save('./results/realdata/alphaAMIS/' + 'Laplaceinit_' + \"_\" + str(num_samples) + \"_dof_\" + str(dof_proposal) + \"_nbruns_\" + str(nb_runs) + \"_niter_\" + str(n_iter) + \"_std_ESS.npy\", std_ESS)\n",
    "    np.save('./results/realdata/alphaAMIS/' + 'Laplaceinit_' + \"_\" + str(num_samples) + \"_dof_\" + str(dof_proposal) + \"_nbruns_\" + str(nb_runs) + \"_niter_\" + str(n_iter) + \"_mean_alphaESS.npy\", mean_alphaESS)\n",
    "    np.save('./results/realdata/alphaAMIS/' + 'Laplaceinit_' + \"_\" + str(num_samples) + \"_dof_\" + str(dof_proposal) + \"_nbruns_\" + str(nb_runs) + \"_niter_\" + str(n_iter) + \"_std_alphaESS.npy\", std_alphaESS)\n",
    "\n",
    "    del mean_Z_baseline,std_Z_baseline,mean_ESS_baseline,std_ESS_baseline,mean_alphaESS_baseline,std_alphaESS_baseline\n",
    "\n",
    "    del mean_Z,std_Z,mean_ESS,std_ESS,mean_alphaESS,std_alphaESS\n",
    "\n",
    "    gc.collect()\n",
    "\n",
    "    # mean_ESS_baseline_all.append(mean_ESS_baseline)\n",
    "    # mean_alphaESS_baseline_all.append(mean_alphaESS_baseline)\n",
    "    #\n",
    "    # std_ESS_baseline_all.append(std_ESS_baseline)\n",
    "    # std_alphaESS_baseline_all.append(std_alphaESS_baseline)\n",
    "    #\n",
    "    # mean_Z_all.append(mean_Z)\n",
    "    # std_Z_all.append(std_Z)\n",
    "    #\n",
    "    # mean_ESS_all.append(mean_ESS)\n",
    "    # mean_alphaESS_all.append(mean_alphaESS)\n",
    "    #\n",
    "    # std_ESS_all.append(std_ESS)\n",
    "    # std_alphaESS_all.append(std_alphaESS)\n",
    "\n",
    "\n",
    "# Last key is the log probability, which we don't want\n",
    "exclude_key = \"lp__\"\n",
    "mcmc_samples = OrderedDict((k, v) for k, v in mcmc_samples.items() if k != exclude_key)\n",
    "\n",
    "mcmc_samples_array = np.vstack(list(mcmc_samples.values())).T"
   ],
   "metadata": {
    "collapsed": false
   }
  },
  {
   "cell_type": "code",
   "execution_count": null,
   "outputs": [],
   "source": [
    "# load\n",
    "def load_all_npy_files(directory):\n",
    "    \"\"\"\n",
    "    Load all .npy files from a specified directory.\n",
    "\n",
    "    Parameters:\n",
    "    - directory (str): Path to the directory containing .npy files.\n",
    "\n",
    "    Returns:\n",
    "    - A dictionary with filenames as keys and loaded numpy arrays as values.\n",
    "    \"\"\"\n",
    "    files = [f for f in os.listdir(directory) if f.endswith('.npy')]\n",
    "    data = {}\n",
    "\n",
    "    for f in files:\n",
    "        full_path = os.path.join(directory, f)\n",
    "        data[f] = np.load(full_path)\n",
    "\n",
    "    return data\n",
    "\n",
    "# Usage\n",
    "directory_path = './results/realdata/AMIS/'\n",
    "loaded_data = load_all_npy_files(directory_path)"
   ],
   "metadata": {
    "collapsed": false
   }
  },
  {
   "cell_type": "code",
   "execution_count": null,
   "outputs": [],
   "source": [
    "# def get_keys_containing_str(dictionary, substring):\n",
    "#     \"\"\"\n",
    "#     Get all keys from a dictionary that contains a specified substring.\n",
    "#\n",
    "#     Parameters:\n",
    "#     - dictionary (dict): The dictionary to search through.\n",
    "#     - substring (str): The substring to look for in the keys.\n",
    "#\n",
    "#     Returns:\n",
    "#     - list of str: A list of keys containing the substring. If no key is found, returns an empty list.\n",
    "#     \"\"\"\n",
    "#     return [key for key in dictionary.keys() if substring in key]\n",
    "#\n",
    "# # Example Usage\n",
    "# matching_keys = get_keys_containing_str(loaded_data, \"\")\n"
   ],
   "metadata": {
    "collapsed": false
   }
  },
  {
   "cell_type": "code",
   "execution_count": null,
   "outputs": [],
   "source": [
    "for key, value in loaded_data.items():\n",
    "    print(f'Key: {key}, Value: {value.shape}')"
   ],
   "metadata": {
    "collapsed": false
   }
  },
  {
   "cell_type": "code",
   "execution_count": null,
   "outputs": [],
   "source": [
    "directory_path_alphaAMIS = './results/realdata/alphaAMIS/'\n",
    "loaded_data_alphaAMIS = load_all_npy_files(directory_path_alphaAMIS)"
   ],
   "metadata": {
    "collapsed": false
   }
  },
  {
   "cell_type": "code",
   "execution_count": null,
   "outputs": [],
   "source": [
    "for key, value in loaded_data_alphaAMIS.items():\n",
    "    print(f'Key: {key}, Value: {value.shape}')\n",
    "\n",
    "# group by number of samples and type of metric"
   ],
   "metadata": {
    "collapsed": false
   }
  },
  {
   "cell_type": "code",
   "execution_count": null,
   "outputs": [],
   "source": [
    "dictionaries_data = [loaded_data, loaded_data_alphaAMIS]\n",
    "results_baseline = {}\n",
    "results_our_fixed_dof = {}\n",
    "results_all = [results_baseline, results_our_fixed_dof]\n",
    "\n",
    "for i, data in enumerate(dictionaries_data):\n",
    "    for key, value in data.items():\n",
    "        # Split the key by \"_\" and find the index of \"niter_25_\"\n",
    "        parts = key.split(\"_\")\n",
    "\n",
    "        key_numsamples = parts[2]\n",
    "        key_metric = parts[-3] + parts[-2] + parts[-1]\n",
    "\n",
    "        if key_metric not in results_all[i].keys():\n",
    "            results_all[i][key_metric] = {}\n",
    "            if key_numsamples not in results_all[i][key_metric].keys():\n",
    "                results_all[i][key_metric][key_numsamples] = value[-1] # keeping only last value of iteration number\n",
    "            else:\n",
    "                continue\n",
    "        else:\n",
    "            if key_numsamples not in results_all[i][key_metric].keys():\n",
    "                results_all[i][key_metric][key_numsamples] = value[-1] # keeping only last value of iteration number\n",
    "            else:\n",
    "                continue"
   ],
   "metadata": {
    "collapsed": false
   }
  },
  {
   "cell_type": "code",
   "execution_count": 41,
   "outputs": [
    {
     "data": {
      "text/plain": "<Figure size 640x480 with 1 Axes>",
      "image/png": "[encoded data removed]"
     },
     "metadata": {},
     "output_type": "display_data"
    }
   ],
   "source": [
    "sorted_numsamples_baseline = sorted(list(map(int, results_baseline['meanalphaESSbaseline.npy'].keys())))\n",
    "sorted_numsamples_baseline_str = [str(num) for num in sorted_numsamples_baseline]\n",
    "# Step 2: Iterate through the sorted keys and get the corresponding values\n",
    "sorted_values_baseline = [ results_baseline['meanalphaESSbaseline.npy'][key] for key in sorted_numsamples_baseline_str]\n",
    "\n",
    "sorted_numsamples_ours = sorted(list(map(int, results_our_fixed_dof['25meanalphaESS.npy'].keys())))\n",
    "sorted_numsamples_ours_str = [str(num) for num in sorted_numsamples_ours]\n",
    "# Step 2: Iterate through the sorted keys and get the corresponding values\n",
    "sorted_values_ours = [ results_our_fixed_dof['25meanalphaESS.npy'][key] for key in sorted_numsamples_ours_str]\n",
    "\n",
    "\n",
    "plt.plot(sorted_numsamples_baseline[:len(sorted_numsamples_baseline) -  3],  sorted_values_baseline[:len(sorted_numsamples_baseline) -  3], label='AMIS (dof=3)')\n",
    "plt.plot(sorted_numsamples_ours[:len(sorted_numsamples_ours) -  3],  sorted_values_ours[:len(sorted_numsamples_ours) -  3], label='escort AMIS  (dof=3)')\n",
    "plt.xlabel('Number of samples')\n",
    "plt.ylabel('alphaESS')\n",
    "plt.legend()\n",
    "plt.savefig('./results/creatinine_alphaESS.pdf')\n"
   ],
   "metadata": {
    "collapsed": false,
    "ExecuteTime": {
     "end_time": "2023-10-02T07:29:30.251111Z",
     "start_time": "2023-10-02T07:29:26.771918Z"
    }
   }
  },
  {
   "cell_type": "code",
   "execution_count": 47,
   "outputs": [
    {
     "name": "stdout",
     "output_type": "stream",
     "text": [
      "[50, 100, 150, 200, 250, 300, 350, 400, 450, 500, 550, 600, 650, 700, 750, 800, 850, 900, 950, 1000, 20929, 41758, 62587]\n"
     ]
    }
   ],
   "source": [
    "print(sorted_numsamples_baseline)"
   ],
   "metadata": {
    "collapsed": false,
    "ExecuteTime": {
     "end_time": "2023-10-02T07:40:10.510532Z",
     "start_time": "2023-10-02T07:40:10.508097Z"
    }
   }
  },
  {
   "cell_type": "code",
   "execution_count": 51,
   "outputs": [
    {
     "data": {
      "text/plain": "<Figure size 640x480 with 1 Axes>",
      "image/png": "[encoded data removed]"
     },
     "metadata": {},
     "output_type": "display_data"
    }
   ],
   "source": [
    "sorted_numsamples_baseline = sorted(list(map(int, results_baseline['25meanZbaseline.npy'].keys())))\n",
    "sorted_numsamples_baseline_str = [str(num) for num in sorted_numsamples_baseline]\n",
    "# Step 2: Iterate through the sorted keys and get the corresponding values\n",
    "sorted_values_baseline = [ results_baseline['25meanZbaseline.npy'][key] for key in sorted_numsamples_baseline_str]\n",
    "\n",
    "sorted_numsamples_ours = sorted(list(map(int, results_our_fixed_dof['25meanZ.npy'].keys())))\n",
    "sorted_numsamples_ours_str = [str(num) for num in sorted_numsamples_ours]\n",
    "# Step 2: Iterate through the sorted keys and get the corresponding values\n",
    "sorted_values_ours = [ results_our_fixed_dof['25meanZ.npy'][key] for key in sorted_numsamples_ours_str]\n",
    "\n",
    "\n",
    "plt.plot(sorted_numsamples_baseline[:len(sorted_numsamples_baseline) -  3],  sorted_values_baseline[:len(sorted_numsamples_baseline) -  3], label='AMIS (dof=3)')\n",
    "plt.plot(sorted_numsamples_ours[:len(sorted_numsamples_ours) -  3],  sorted_values_ours[:len(sorted_numsamples_ours) -  3], label='escort AMIS  (dof=3)')\n",
    "plt.axhline(y=sorted_values_ours[-1], color='r', linestyle='solid', lw=2, label='Estimated true value (with 6e+4 samples)')\n",
    "\n",
    "plt.xlabel('Number of samples')\n",
    "plt.ylabel('mean Z value')\n",
    "plt.legend()\n",
    "plt.savefig('./results/creatinine_meanZ_estimation.pdf')"
   ],
   "metadata": {
    "collapsed": false,
    "ExecuteTime": {
     "end_time": "2023-10-02T07:41:50.282630Z",
     "start_time": "2023-10-02T07:41:49.636928Z"
    }
   }
  },
  {
   "cell_type": "code",
   "execution_count": 39,
   "outputs": [
    {
     "data": {
      "text/plain": "[50,\n 100,\n 150,\n 200,\n 250,\n 300,\n 350,\n 400,\n 450,\n 500,\n 550,\n 600,\n 650,\n 700,\n 750,\n 800,\n 850,\n 900,\n 950,\n 1000]"
     },
     "execution_count": 39,
     "metadata": {},
     "output_type": "execute_result"
    }
   ],
   "source": [],
   "metadata": {
    "collapsed": false,
    "ExecuteTime": {
     "end_time": "2023-10-02T07:27:40.350055Z",
     "start_time": "2023-10-02T07:27:40.346920Z"
    }
   }
  },
  {
   "cell_type": "code",
   "execution_count": 32,
   "outputs": [],
   "source": [
    "\n",
    "\n"
   ],
   "metadata": {
    "collapsed": false,
    "ExecuteTime": {
     "end_time": "2023-10-02T07:21:32.960302Z",
     "start_time": "2023-10-02T07:21:32.958171Z"
    }
   }
  },
  {
   "cell_type": "markdown",
   "source": [
    "###  results"
   ],
   "metadata": {
    "collapsed": false
   }
  },
  {
   "cell_type": "code",
   "execution_count": null,
   "outputs": [],
   "source": [
    "print('Estimate by AMIS', mean_Z_baseline[-1], std_Z_baseline[-1])\n",
    "print('Estimate by alpha AMIS', mean_Z[-1], std_Z[-1])\n",
    "\n"
   ],
   "metadata": {
    "collapsed": false
   }
  },
  {
   "cell_type": "code",
   "execution_count": null,
   "outputs": [],
   "source": [
    "print('ESS by AMIS', mean_ESS_baseline[-1], 1.96* std_ESS_baseline[-1])\n",
    "print('alpha ESS by AMIS', mean_alphaESS_baseline[-1], 1.96*std_alphaESS_baseline[-1])\n",
    "print('ESS by escort moment AMIS', mean_ESS[-1], 1.96*std_ESS[-1])\n",
    "print('alpha ESS by by escort moment AMIS', mean_alphaESS[-1], 1.96* std_alphaESS[-1])\n"
   ],
   "metadata": {
    "collapsed": false
   }
  },
  {
   "cell_type": "markdown",
   "source": [
    "### Old: comparison with MCMC via KSD"
   ],
   "metadata": {
    "collapsed": false
   }
  },
  {
   "cell_type": "code",
   "execution_count": null,
   "metadata": {
    "collapsed": false,
    "jupyter": {
     "outputs_hidden": false
    }
   },
   "outputs": [],
   "source": [
    "# def numpy_callback(x):\n",
    "#   # Need to forward-declare the shape & dtype of the expected output.\n",
    "#   result_shape = jax.core.ShapedArray(x.shape, x.dtype)\n",
    "#   return jax.pure_callback(np.sin, result_shape, x)\n",
    "\n",
    "def log_density_gradient_correct(theta):\n",
    "    return bridgestan_model.log_density_gradient(theta)[1]\n",
    "\n",
    "def log_density_gradient(theta):\n",
    "    result_shape = jax.core.ShapedArray(theta.shape , theta.dtype)\n",
    "    # _, gradient = bridgestan_model.log_density_gradient(theta)\n",
    "    gradient = jax.experimental.io_callback(log_density_gradient_correct, result_shape, theta)\n",
    "    return gradient"
   ]
  },
  {
   "cell_type": "code",
   "execution_count": null,
   "metadata": {
    "collapsed": false,
    "jupyter": {
     "outputs_hidden": false
    }
   },
   "outputs": [],
   "source": [
    "jax.config.update(\"jax_enable_x64\", True)\n",
    "# compare results with MCMC via the KSD\n",
    "ksd_mcmc_samples = old_ksd(mcmc_samples_array, log_density_gradient)\n",
    "print(\"KSD using true samples:\", ksd_mcmc_samples)\n",
    "\n"
   ]
  },
  {
   "cell_type": "code",
   "execution_count": null,
   "metadata": {
    "collapsed": false,
    "jupyter": {
     "outputs_hidden": false
    }
   },
   "outputs": [],
   "source": [
    "from scipy.special import logsumexp\n",
    "\n",
    "final_samples = adapted_proposal.rvs(size=50000)\n",
    "\n",
    "weights = bridgestan_model.log_density(final_samples) - adapted_proposal.logpdf(final_samples)\n",
    "normalized_weights = np.exp(weights - logsumexp(weights))\n",
    "ksd_fixed_dof = old_ksd(final_samples, log_density_gradient, weights=normalized_weights)\n",
    "print(\"KSD for adapted proposal samples:\", ksd_fixed_dof)\n"
   ]
  }
 ],
 "metadata": {
  "kernelspec": {
   "display_name": "Python 3 (ipykernel)",
   "language": "python",
   "name": "python3"
  },
  "language_info": {
   "codemirror_mode": {
    "name": "ipython",
    "version": 3
   },
   "file_extension": ".py",
   "mimetype": "text/x-python",
   "name": "python",
   "nbconvert_exporter": "python",
   "pygments_lexer": "ipython3",
   "version": "3.9.15"
  }
 },
 "nbformat": 4,
 "nbformat_minor": 4
}

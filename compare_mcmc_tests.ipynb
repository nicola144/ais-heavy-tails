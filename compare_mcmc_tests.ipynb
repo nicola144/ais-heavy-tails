{
 "cells": [
  {
   "cell_type": "code",
   "execution_count": 16,
   "metadata": {
    "collapsed": true,
    "ExecuteTime": {
     "end_time": "2023-09-15T21:34:21.176981Z",
     "start_time": "2023-09-15T21:34:14.096729Z"
    }
   },
   "outputs": [
    {
     "name": "stdout",
     "output_type": "stream",
     "text": [
      "KSD using true samples: 0.0002471425\n",
      "KSD using importance weighted samples: 0.0039374777\n"
     ]
    }
   ],
   "source": [
    "import jax.numpy as jnp\n",
    "from jax import grad, vmap\n",
    "from jax.scipy.stats import multivariate_normal\n",
    "from jax.scipy.special import logsumexp\n",
    "import jax\n",
    "\n",
    "from tqdm import tqdm\n",
    "import numpy as np\n",
    "\n",
    "# Your logpdf function\n",
    "def logpdf(x, mean, cov):\n",
    "    return multivariate_normal.logpdf(x, mean=mean, cov=cov)\n",
    "\n",
    "# Your logpdf_grad_func function which computes gradient at a point given the point and additional parameters\n",
    "def logpdf_grad_func(x, mean, cov):\n",
    "    return grad(logpdf, argnums=0)(x, mean, cov)\n",
    "\n",
    "\n",
    "def k0(x, y, grd, c2=1.0, beta=0.5):\n",
    "    d = len(x)\n",
    "\n",
    "    z = x - y\n",
    "    r2 = jnp.sum(jnp.square(z))\n",
    "    base = c2 + r2\n",
    "    base_beta = base ** (-beta)\n",
    "    base_beta1 = base_beta / base\n",
    "\n",
    "    gradlogpx, gradlogpy = grd(x), grd(y)\n",
    "\n",
    "    coeffk = jnp.dot(gradlogpx, gradlogpy)\n",
    "    coeffgrad = -2.0 * beta * base_beta1\n",
    "\n",
    "    kterm = coeffk * base_beta\n",
    "    gradandgradgradterms = coeffgrad * (\n",
    "        (jnp.dot(gradlogpy, z) - jnp.dot(gradlogpx, z)) +\n",
    "        (-d + 2 * (beta + 1) * r2 / base)\n",
    "    )\n",
    "\n",
    "    return kterm + gradandgradgradterms\n",
    "\n",
    "# Now, create batch versions of the k0 and ksd functions using vmap\n",
    "batch_k0 = vmap(vmap(k0, in_axes=(0, None, None, None, None), out_axes=0), in_axes=(None, 0, None, None, None), out_axes=0)\n",
    "\n",
    "# The ksd function can now use batch_k0 to compute the KSD in a vectorized manner\n",
    "def ksd(samples, logpdf_grad_func, weights=None, c2=1.0, beta=0.5):\n",
    "    N = samples.shape[0]\n",
    "    if weights is None:\n",
    "        weights = jnp.ones(N) / N\n",
    "\n",
    "    ksd_matrix = batch_k0(samples, samples, logpdf_grad_func, c2, beta)\n",
    "    ksd_value = jnp.sqrt(jnp.sum(ksd_matrix * weights[:, None] * weights[None, :]) / N)\n",
    "    return ksd_value\n",
    "\n",
    "# Define the target and proposal distribution parameters\n",
    "target_mean = jnp.array([2.0, 2.0])\n",
    "target_cov = 0.5 * jnp.eye(2)\n",
    "proposal_mean = jnp.array([1., 1.])\n",
    "proposal_cov = 0.3 * jnp.eye(2)\n",
    "\n",
    "params_target = (target_mean, target_cov)\n",
    "params_proposal = (proposal_mean, proposal_cov)\n",
    "\n",
    "# Partially apply logpdf_grad_func to create a new function with fixed params\n",
    "logpdf_grad_func_params_fixed = jax.tree_util.Partial(logpdf_grad_func, mean=target_mean, cov=target_cov)\n",
    "\n",
    "logpdf_grad_func_params_fixed_proposal = jax.tree_util.Partial(logpdf_grad_func, mean=proposal_mean, cov=proposal_cov)\n",
    "\n",
    "\n",
    "# Generate samples from the target and proposal distributions\n",
    "np.random.seed(0)\n",
    "num_samples = 10000\n",
    "true_samples = np.random.multivariate_normal(target_mean, target_cov, num_samples)\n",
    "proposal_samples = np.random.multivariate_normal(proposal_mean, proposal_cov, num_samples)\n",
    "\n",
    "# Calculate the importance weights\n",
    "log_weights = logpdf(proposal_samples, mean=target_mean, cov=target_cov) - logpdf(proposal_samples, mean=proposal_mean, cov=proposal_cov)\n",
    "\n",
    "weights = np.exp(log_weights - logsumexp(log_weights))\n",
    "\n",
    "# Calculate and print the KSD for true and importance weighted samples\n",
    "ksd_true = ksd(true_samples, logpdf_grad_func_params_fixed)\n",
    "print(\"KSD using true samples:\", ksd_true)\n",
    "\n",
    "ksd_importance = ksd(proposal_samples, logpdf_grad_func_params_fixed, weights=weights)\n",
    "print(\"KSD using importance weighted samples:\", ksd_importance)\n"
   ]
  },
  {
   "cell_type": "code",
   "execution_count": 12,
   "outputs": [],
   "source": [],
   "metadata": {
    "collapsed": false,
    "ExecuteTime": {
     "end_time": "2023-09-15T21:30:39.563233Z",
     "start_time": "2023-09-15T21:30:39.536921Z"
    }
   }
  },
  {
   "cell_type": "code",
   "execution_count": null,
   "outputs": [],
   "source": [],
   "metadata": {
    "collapsed": false
   }
  }
 ],
 "metadata": {
  "kernelspec": {
   "display_name": "Python 3",
   "language": "python",
   "name": "python3"
  },
  "language_info": {
   "codemirror_mode": {
    "name": "ipython",
    "version": 2
   },
   "file_extension": ".py",
   "mimetype": "text/x-python",
   "name": "python",
   "nbconvert_exporter": "python",
   "pygments_lexer": "ipython2",
   "version": "2.7.6"
  }
 },
 "nbformat": 4,
 "nbformat_minor": 0
}

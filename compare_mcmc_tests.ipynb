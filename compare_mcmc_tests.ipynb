{
 "cells": [
  {
   "cell_type": "code",
   "execution_count": 3,
   "metadata": {
    "collapsed": true,
    "ExecuteTime": {
     "end_time": "2023-09-18T17:14:55.276895Z",
     "start_time": "2023-09-18T17:14:52.354643Z"
    }
   },
   "outputs": [
    {
     "name": "stdout",
     "output_type": "stream",
     "text": [
      "KSD using true samples: 0.3673918216793771\n",
      "KSD using importance weighted samples: 0.43224111555653943\n",
      "KSD using true samples: 0.3673918216793771\n",
      "KSD using importance weighted samples: 0.43224111555653943\n"
     ]
    }
   ],
   "source": [
    "import jax.numpy as jnp\n",
    "from jax.scipy.stats import multivariate_normal\n",
    "from jax.scipy.special import logsumexp\n",
    "from jax import grad\n",
    "from utils import old_ksd\n",
    "\n",
    "import jax\n",
    "\n",
    "from tqdm import tqdm\n",
    "import numpy as np\n",
    "\n",
    "# Your logpdf function\n",
    "def logpdf(x, mean, cov):\n",
    "    return multivariate_normal.logpdf(x, mean=mean, cov=cov)\n",
    "\n",
    "# Your logpdf_grad_func function which computes gradient at a point given the point and additional parameters\n",
    "def logpdf_grad_func(x, mean, cov):\n",
    "    return grad(logpdf, argnums=0)(x, mean, cov)\n",
    "\n",
    "\n",
    "# Define the target and proposal distribution parameters\n",
    "target_mean = jnp.array([2.0, 2.0])\n",
    "target_cov = 0.5 * jnp.eye(2)\n",
    "proposal_mean = jnp.array([1., 1.])\n",
    "proposal_cov = 0.3 * jnp.eye(2)\n",
    "\n",
    "params_target = (target_mean, target_cov)\n",
    "params_proposal = (proposal_mean, proposal_cov)\n",
    "\n",
    "# Partially apply logpdf_grad_func to create a new function with fixed params\n",
    "logpdf_grad_func_params_fixed = jax.tree_util.Partial(logpdf_grad_func, mean=target_mean, cov=target_cov)\n",
    "\n",
    "logpdf_grad_func_params_fixed_proposal = jax.tree_util.Partial(logpdf_grad_func, mean=proposal_mean, cov=proposal_cov)\n",
    "\n",
    "\n",
    "# Generate samples from the target and proposal distributions\n",
    "np.random.seed(0)\n",
    "num_samples = 10\n",
    "true_samples = np.random.multivariate_normal(target_mean, target_cov, num_samples)\n",
    "proposal_samples = np.random.multivariate_normal(proposal_mean, proposal_cov, num_samples)\n",
    "\n",
    "# Calculate the importance weights\n",
    "log_weights = logpdf(proposal_samples, mean=target_mean, cov=target_cov) - logpdf(proposal_samples, mean=proposal_mean, cov=proposal_cov)\n",
    "\n",
    "weights = np.exp(log_weights - logsumexp(log_weights))\n",
    "\n",
    "# Calculate and print the KSD for true and importance weighted samples\n",
    "ksd_true = ksd(true_samples, logpdf_grad_func_params_fixed)\n",
    "print(\"KSD using true samples:\", ksd_true)\n",
    "\n",
    "ksd_importance = ksd(proposal_samples, logpdf_grad_func_params_fixed, weights=weights)\n",
    "print(\"KSD using importance weighted samples:\", ksd_importance)\n",
    "\n",
    "ksd_true_old = old_ksd(true_samples, logpdf_grad_func_params_fixed)\n",
    "print(\"KSD using true samples:\", ksd_true_old)\n",
    "\n",
    "ksd_importance_old = old_ksd(proposal_samples, logpdf_grad_func_params_fixed, weights=weights)\n",
    "print(\"KSD using importance weighted samples:\", ksd_importance_old)\n",
    "\n",
    "\n"
   ]
  },
  {
   "cell_type": "code",
   "execution_count": 12,
   "outputs": [],
   "source": [],
   "metadata": {
    "collapsed": false,
    "ExecuteTime": {
     "end_time": "2023-09-15T21:30:39.563233Z",
     "start_time": "2023-09-15T21:30:39.536921Z"
    }
   }
  },
  {
   "cell_type": "code",
   "execution_count": null,
   "outputs": [],
   "source": [],
   "metadata": {
    "collapsed": false
   }
  }
 ],
 "metadata": {
  "kernelspec": {
   "display_name": "Python 3",
   "language": "python",
   "name": "python3"
  },
  "language_info": {
   "codemirror_mode": {
    "name": "ipython",
    "version": 2
   },
   "file_extension": ".py",
   "mimetype": "text/x-python",
   "name": "python",
   "nbconvert_exporter": "python",
   "pygments_lexer": "ipython2",
   "version": "2.7.6"
  }
 },
 "nbformat": 4,
 "nbformat_minor": 0
}

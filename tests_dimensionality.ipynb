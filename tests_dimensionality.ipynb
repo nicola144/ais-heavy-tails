{
 "cells": [
  {
   "cell_type": "code",
   "execution_count": 17,
   "metadata": {
    "ExecuteTime": {
     "end_time": "2023-10-23T20:30:23.822155Z",
     "start_time": "2023-10-23T20:30:23.702335Z"
    },
    "collapsed": false,
    "jupyter": {
     "outputs_hidden": false
    }
   },
   "outputs": [
    {
     "data": {
      "application/vnd.jupyter.widget-view+json": {
       "model_id": "f4138b8fd0c6444280892c75a42b504b",
       "version_major": 2,
       "version_minor": 0
      },
      "text/plain": [
       "interactive(children=(IntSlider(value=30, description='elev', max=90, step=5), IntSlider(value=30, description…"
      ]
     },
     "execution_count": 17,
     "metadata": {},
     "output_type": "execute_result"
    }
   ],
   "source": [
    "%matplotlib inline\n",
    "\n",
    "import numpy as np\n",
    "import matplotlib.pyplot as plt\n",
    "import ipywidgets as widgets\n",
    "from IPython.display import display\n",
    "\n",
    "# Set LaTeX formatting for plots\n",
    "plt.rc('text', usetex=True)\n",
    "\n",
    "# Define the function kappa\n",
    "def kappa(sigma_p2, sigma_q2):\n",
    "    numerator = sigma_q2 / np.sqrt((sigma_q2 + sigma_p2) * (sigma_q2 - sigma_p2))\n",
    "    denominator = (sigma_q2 * sigma_p2) / (sigma_q2 + sigma_p2)\n",
    "    return numerator * denominator\n",
    "\n",
    "def plot_3d(elev=30, azim=30):\n",
    "    # Create a meshgrid for sigma_p^2 and sigma_q^2\n",
    "    sigma_p2 = np.linspace(1.01, 1.10, 1000)  # sigma_p^2 > 1\n",
    "    sigma_q2 = np.linspace(1.2, 2., 1000)  # sigma_q^2 > sigma_p^2\n",
    "    P, Q = np.meshgrid(sigma_p2, sigma_q2)\n",
    "\n",
    "    # # Compute the values of kappa for the meshgrid\n",
    "    # K = np.zeros_like(P)\n",
    "    # mask = Q > P  # Create a mask for the region where sigma_q^2 > sigma_p^2\n",
    "    # K[mask] = kappa(P[mask], Q[mask])\n",
    "    K = kappa(P,Q)\n",
    "\n",
    "    # Plot the 3D surface\n",
    "    fig = plt.figure(figsize=(8, 6))\n",
    "    ax = fig.add_subplot(111, projection='3d')\n",
    "    ax.view_init(elev=elev, azim=azim)\n",
    "    ax.plot_surface(P, Q, K, cmap='viridis', edgecolors='k', linewidth=0.5, antialiased=True, shade=False)\n",
    "\n",
    "    # Plot the plane for kappa = 1\n",
    "    K_plane = np.ones_like(P)\n",
    "    ax.plot_surface(P, Q, K_plane, color='r', alpha=0.3)\n",
    "\n",
    "\n",
    "    ax.set_xlabel(r'$\\sigma_p^2$')\n",
    "    ax.set_ylabel(r'$\\sigma_q^2$')\n",
    "    ax.set_zlabel(r'$\\kappa$')\n",
    "    ax.set_title(r'3D plot of $\\kappa(\\sigma_p^{2}, \\sigma_q^{2})$ with $\\kappa=1$ plane')\n",
    "\n",
    "    plt.savefig('kappa_function.pdf',bbox_inches='tight')\n",
    "\n",
    "# Use ipywidgets to create interactive sliders for elevation and azimuth\n",
    "widgets.interactive(plot_3d, elev=(0, 90, 5), azim=(0, 360, 10))\n"
   ]
  },
  {
   "cell_type": "code",
   "execution_count": 16,
   "metadata": {},
   "outputs": [
    {
     "data": {
      "application/vnd.jupyter.widget-view+json": {
       "model_id": "ccbf6eb4a01e47638dfb4a210868ee68",
       "version_major": 2,
       "version_minor": 0
      },
      "text/plain": [
       "interactive(children=(IntSlider(value=0, description='elev', max=90, step=5), IntSlider(value=30, description=…"
      ]
     },
     "execution_count": 16,
     "metadata": {},
     "output_type": "execute_result"
    }
   ],
   "source": [
    "%matplotlib inline\n",
    "\n",
    "\n",
    "# Set LaTeX formatting for plots\n",
    "plt.rc('text', usetex=True)\n",
    "\n",
    "# Define the function kappa\n",
    "def kappa(sigma_p2, sigma_q2):\n",
    "    numerator = sigma_q2 / np.sqrt((sigma_q2 + sigma_p2) * (sigma_q2 - sigma_p2))\n",
    "    denominator = (sigma_q2 * sigma_p2) / (sigma_q2 + sigma_p2)\n",
    "    return numerator * denominator\n",
    "\n",
    "def plot_3d(elev=-30, azim=30):\n",
    "    # Create a meshgrid for sigma_p^2 and sigma_q^2\n",
    "    sigma_p2 = np.linspace(1.01, 1.5, 1000)  # sigma_p^2 > 1\n",
    "    sigma_q2 = np.linspace(1.6, 2.5, 1000)  # sigma_q^2 > sigma_p^2\n",
    "    P, Q = np.meshgrid(sigma_p2, sigma_q2)\n",
    "\n",
    "    # # Compute the values of kappa for the meshgrid\n",
    "    # K = np.zeros_like(P)\n",
    "    # mask = Q > P  # Create a mask for the region where sigma_q^2 > sigma_p^2\n",
    "    # K[mask] = kappa(P[mask], Q[mask])\n",
    "    K = kappa(P,Q)\n",
    "\n",
    "    # Plot the 3D surface\n",
    "    fig = plt.figure(figsize=(8, 6))\n",
    "    ax = fig.add_subplot(111, projection='3d')\n",
    "    ax.view_init(elev=elev, azim=azim)\n",
    "    ax.plot_surface(P, Q, K, cmap='viridis', edgecolors='k', linewidth=0.5, antialiased=True, shade=False)\n",
    "\n",
    "    # Plot the plane for kappa = 1\n",
    "    K_plane = np.ones_like(P)\n",
    "    ax.plot_surface(P, Q, K_plane, color='r', alpha=0.3)\n",
    "\n",
    "    # Find the intersection points\n",
    "    intersection_mask = np.isclose(K, 1, atol=0.1)\n",
    "    P_intersect = P[intersection_mask]\n",
    "    Q_intersect = Q[intersection_mask]\n",
    "    K_intersect = K[intersection_mask]\n",
    "\n",
    "    # Plot the intersection line\n",
    "    ax.plot(P_intersect, Q_intersect, K_intersect, color='magenta', linewidth=2, label='Intersection')\n",
    "    ax.legend()\n",
    "\n",
    "    ax.set_xlabel(r'$\\sigma_p^2$')\n",
    "    ax.set_ylabel(r'$\\sigma_q^2$')\n",
    "    ax.set_zlabel(r'$\\kappa$')\n",
    "    ax.set_title(r'3D plot of $\\kappa(\\sigma_p^{2}, \\sigma_q^{2})$ with $\\kappa=1$ plane')\n",
    "\n",
    "    plt.show()\n",
    "\n",
    "# Use ipywidgets to create interactive sliders for elevation and azimuth\n",
    "widgets.interactive(plot_3d, elev=(0, 90, 5), azim=(0, 360, 10))\n"
   ]
  },
  {
   "cell_type": "code",
   "execution_count": null,
   "metadata": {
    "collapsed": false,
    "jupyter": {
     "outputs_hidden": false
    }
   },
   "outputs": [],
   "source": []
  },
  {
   "cell_type": "code",
   "execution_count": null,
   "metadata": {},
   "outputs": [],
   "source": []
  }
 ],
 "metadata": {
  "kernelspec": {
   "display_name": "Python 3 (ipykernel)",
   "language": "python",
   "name": "python3"
  },
  "language_info": {
   "codemirror_mode": {
    "name": "ipython",
    "version": 3
   },
   "file_extension": ".py",
   "mimetype": "text/x-python",
   "name": "python",
   "nbconvert_exporter": "python",
   "pygments_lexer": "ipython3",
   "version": "3.9.15"
  }
 },
 "nbformat": 4,
 "nbformat_minor": 4
}

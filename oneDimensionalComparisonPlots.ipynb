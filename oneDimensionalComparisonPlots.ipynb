{
 "cells": [
  {
   "cell_type": "code",
   "execution_count": 1,
   "id": "5d7e6e3c",
   "metadata": {
    "ExecuteTime": {
     "end_time": "2023-10-05T19:54:09.999676Z",
     "start_time": "2023-10-05T19:54:08.246137Z"
    }
   },
   "outputs": [],
   "source": [
    "import numpy as np\n",
    "import matplotlib.pyplot as plt\n",
    "from utils import *\n",
    "\n",
    "from tqdm import tqdm\n",
    "from scipy.special import logsumexp\n",
    "from scipy.stats import multivariate_normal, multivariate_t, random_correlation\n",
    "from emukit.bayesian_optimization.loops import BayesianOptimizationLoop\n",
    "\n",
    "from emukit.core import ContinuousParameter, InformationSourceParameter, ParameterSpace\n",
    "from emukit.core.optimization import GradientAcquisitionOptimizer\n",
    "from emukit.core.initial_designs import RandomDesign\n",
    "from GPy.models import GPRegression\n",
    "from emukit.model_wrappers import GPyModelWrapper\n",
    "from emukit.bayesian_optimization.acquisitions import ExpectedImprovement, MaxValueEntropySearch, NegativeLowerConfidenceBound\n",
    "import GPy\n",
    "from emukit.core.initial_designs.latin_design import LatinDesign\n",
    "from functools import partial\n",
    "\n",
    "# Enable LaTeX for nicer plotting\n",
    "plt.rc('text', usetex=True)\n",
    "plt.rc('font', family='serif')\n"
   ]
  },
  {
   "cell_type": "code",
   "execution_count": 2,
   "id": "afb16c93",
   "metadata": {
    "ExecuteTime": {
     "end_time": "2023-10-05T19:54:10.007258Z",
     "start_time": "2023-10-05T19:54:09.997533Z"
    }
   },
   "outputs": [],
   "source": [
    "def AMIS_fixed_dof(mu_initial,shape_initial, n_iterations, log_pi_tilde, dof_proposal, M, D):\n",
    "    \n",
    "    alpha = 1 + 2 / (dof_proposal + D) #to be used for computation of the alpha-ESS\n",
    "    \n",
    "    all_samples = np.empty((n_iterations,M,D))\n",
    "    evaluations_target_logpdf = np.empty((n_iterations,M))\n",
    "    mixture_denominator_evaluations = np.empty((n_iterations,M))\n",
    "    proposals_over_iterations = []\n",
    "\n",
    "    all_estimate_Z = np.empty(n_iterations)\n",
    "    all_ESS = np.empty(n_iterations)\n",
    "    all_alphaESS = np.empty(n_iterations)\n",
    "\n",
    "    mu_current = mu_initial\n",
    "    shape_current = shape_initial\n",
    "    \n",
    "    # Iterations\n",
    "    for t in range(n_iterations):\n",
    "        \n",
    "        current_proposal = multivariate_t(loc=mu_current, shape=shape_current, df=dof_proposal)\n",
    "        proposals_over_iterations.append(current_proposal)\n",
    "\n",
    "        # Draw M samples from current proposal\n",
    "        samples_current = np.transpose([current_proposal.rvs(size=M)])\n",
    "        all_samples[t,:] = samples_current # this adds to the existing list of samples, does not override\n",
    "\n",
    "        \n",
    "\n",
    "        # Numerator\n",
    "        for m in range(M):\n",
    "            evaluations_target_logpdf[t,m] = log_pi_tilde(samples_current[m,:])#log_pi_tilde may not be broasdact-compatible\n",
    "\n",
    "        log_numerator = evaluations_target_logpdf[:t+1,:] # t+1 since including current ones !\n",
    "\n",
    "        \n",
    "        # Computing the DM weights in the denominator\n",
    "        current_only_log_denominator = current_proposal.logpdf(samples_current)\n",
    "        mixture_denominator_evaluations[t,:] = np.exp(current_only_log_denominator)\n",
    "        \n",
    "        for tau in range(t):\n",
    "            #this loop is only entered if t>0\n",
    "            mixture_denominator_evaluations[tau,:] += np.exp(current_proposal.logpdf(all_samples[tau,:]))\n",
    "            mixture_denominator_evaluations[t,:] += np.exp(proposals_over_iterations[tau].logpdf(samples_current))\n",
    "        \n",
    "        log_denominator = - np.log(t+1) +  np.log(mixture_denominator_evaluations[:t+1,:])\n",
    "\n",
    "        assert log_numerator.shape == log_denominator.shape\n",
    "\n",
    "        updated_logweights = log_numerator - log_denominator\n",
    "        logsumexp_logweights = logsumexp(updated_logweights)\n",
    "        updated_normalized_logweights = updated_logweights - logsumexp_logweights\n",
    "        \n",
    "        ### Estimate of the normalization constant\n",
    "        estimate_Z = np.exp(logsumexp_logweights) / (M*(t+1))\n",
    "        all_estimate_Z[t] = estimate_Z\n",
    "\n",
    "        \n",
    "        ### metrics \n",
    "        current_only_logweights = evaluations_target_logpdf[t,:] - current_only_log_denominator\n",
    "        current_only_normalized_logweights = current_only_logweights - logsumexp(current_only_logweights)\n",
    "\n",
    "        current_only_alphaESS = np.exp(logsumexp(alpha*current_only_normalized_logweights))**(1 / (1-alpha))\n",
    "        current_only_ESS = 1 / np.exp(logsumexp(2*current_only_normalized_logweights))\n",
    "        \n",
    "        all_alphaESS[t] = (1/M)*current_only_alphaESS\n",
    "        all_ESS[t] = (1/M)*current_only_ESS\n",
    "        \n",
    "        ### Update proposal\n",
    "        \n",
    "        samples_up_to_now = all_samples[:t+1,:,:]\n",
    "\n",
    "        # Standard moment matching\n",
    "        W = np.exp(updated_normalized_logweights)\n",
    "        mu_current = np.einsum('tmd,tm->d', samples_up_to_now, W)\n",
    "        secnd_moment = np.einsum('tm, tmd, tme -> de', W, samples_up_to_now, samples_up_to_now)\n",
    "        shape_current = ((dof_proposal - 2) / dof_proposal) * ( secnd_moment - mu_current.reshape(-1, 1) @ mu_current.reshape(1, -1) )\n",
    "\n",
    "    return multivariate_t(loc=mu_current, shape=shape_current, df=dof_proposal)"
   ]
  },
  {
   "cell_type": "code",
   "execution_count": 3,
   "id": "c564ae9c",
   "metadata": {
    "ExecuteTime": {
     "end_time": "2023-10-05T19:54:10.016983Z",
     "start_time": "2023-10-05T19:54:10.014496Z"
    }
   },
   "outputs": [],
   "source": [
    "def escortAMIS_fixed_dof(mu_initial,shape_initial, n_iterations, log_pi_tilde, dof_proposal, M, D):\n",
    "    \n",
    "    alpha = 1 + 2 / (dof_proposal + D) #to be used for computation of the alpha-ESS\n",
    "    \n",
    "    all_samples = np.empty((n_iterations,M,D))\n",
    "    evaluations_target_logpdf = np.empty((n_iterations,M))\n",
    "    mixture_denominator_evaluations = np.empty((n_iterations,M))\n",
    "    proposals_over_iterations = []\n",
    "    # Statistics to track\n",
    "    all_estimate_Z = np.empty(n_iterations)\n",
    "    all_ESS = np.empty(n_iterations)\n",
    "    all_alphaESS = np.empty(n_iterations)\n",
    "\n",
    "    mu_current = mu_initial\n",
    "    shape_current = shape_initial\n",
    "    \n",
    "    # Iterations\n",
    "    for t in range(n_iterations):\n",
    "        current_proposal = multivariate_t(loc=mu_current, shape=shape_current, df=dof_proposal)\n",
    "        proposals_over_iterations.append(current_proposal)\n",
    "\n",
    "        # Draw M samples from current proposal\n",
    "        samples_current = np.transpose([current_proposal.rvs(size=M)])\n",
    "        all_samples[t,:] = samples_current # this adds to the existing list of samples, does not override\n",
    "\n",
    "        # Numerator\n",
    "        for m in range(M):\n",
    "            evaluations_target_logpdf[t,m] = log_pi_tilde(samples_current[m,:])# log_pi_tilde may not be broasdact-compatible\n",
    "\n",
    "        log_numerator = evaluations_target_logpdf[:t+1,:] # t+1 since including current ones !\n",
    "\n",
    "        \n",
    "        # Computing the DM weights in the denominator\n",
    "        current_only_log_denominator = current_proposal.logpdf(samples_current)\n",
    "        mixture_denominator_evaluations[t,:] = np.exp(current_only_log_denominator)\n",
    "        \n",
    "        for tau in range(t):\n",
    "            #this loop is only entered if t>0\n",
    "            mixture_denominator_evaluations[tau,:] += np.exp(current_proposal.logpdf(all_samples[tau,:]))\n",
    "            mixture_denominator_evaluations[t,:] += np.exp(proposals_over_iterations[tau].logpdf(samples_current))\n",
    "        \n",
    "        log_denominator = - np.log(t+1) +  np.log(mixture_denominator_evaluations[:t+1,:])\n",
    "\n",
    "        assert log_numerator.shape == log_denominator.shape\n",
    "\n",
    "        updated_logweights = log_numerator - log_denominator\n",
    "        logsumexp_logweights = logsumexp(updated_logweights)\n",
    "        updated_normalized_logweights = updated_logweights - logsumexp_logweights\n",
    "        \n",
    "        \n",
    "        ### Estimate of the normalization constant\n",
    "        estimate_Z = np.exp(logsumexp_logweights) / (M*(t+1)) # weights need to have only pi_tilde in the numerator (no escort) \n",
    "        all_estimate_Z[t] = estimate_Z\n",
    "\n",
    "        ### metrics \n",
    "        current_only_logweights = evaluations_target_logpdf[t,:] - current_only_log_denominator \n",
    "        current_only_normalized_logweights = current_only_logweights - logsumexp(current_only_logweights) \n",
    "\n",
    "        # weights need to have only pi_tilde in the numerator (no escort)\n",
    "        current_only_alphaESS = np.exp(logsumexp(alpha*current_only_normalized_logweights))**(1 / (1-alpha))\n",
    "        current_only_ESS = 1 / np.exp(logsumexp(2*current_only_normalized_logweights))\n",
    "        \n",
    "        all_alphaESS[t] = (1/M)*current_only_alphaESS\n",
    "        all_ESS[t] = (1/M)*current_only_ESS\n",
    "        \n",
    "        ### Update proposal\n",
    "        \n",
    "        samples_up_to_now = all_samples[:t+1,:,:]\n",
    "\n",
    "        # weights need to have the escort of pi_tilde in the numerator\n",
    "        updated_escort_logweights = alpha*log_numerator - log_denominator\n",
    "        updated_normalized_escort_logweights = updated_escort_logweights - logsumexp(updated_escort_logweights)\n",
    "\n",
    "        W = np.exp(updated_normalized_escort_logweights)\n",
    "        mu_current = np.einsum('tmd,tm->d', samples_up_to_now, W)\n",
    "        secnd_moment =  np.einsum('tm, tmd, tme -> de', W, samples_up_to_now, samples_up_to_now)\n",
    "        shape_current = secnd_moment - (mu_current.reshape(-1, 1) @ mu_current.reshape(1, -1))\n",
    "\n",
    "    return multivariate_t(loc=mu_current, shape=shape_current, df=dof_proposal)"
   ]
  },
  {
   "cell_type": "code",
   "execution_count": 4,
   "id": "5dc4ae8d",
   "metadata": {
    "ExecuteTime": {
     "end_time": "2023-10-05T19:54:10.136759Z",
     "start_time": "2023-10-05T19:54:10.032934Z"
    }
   },
   "outputs": [],
   "source": [
    "def escortAMIS_adapted_dof(mu_initial, shape_initial, n_iterations, log_pi_tilde, dof_initial, M, D):\n",
    "\n",
    "    all_samples = np.empty((n_iterations, M, D))\n",
    "    evaluations_target_logpdf = np.empty((n_iterations, M))\n",
    "    mixture_denominator_evaluations = np.empty((n_iterations, M))\n",
    "    proposals_over_iterations = []\n",
    "\n",
    "    # Statistics to track\n",
    "    all_estimate_Z = np.empty(n_iterations)\n",
    "    all_ESS = np.empty(n_iterations)\n",
    "    all_alphaESS = np.empty(n_iterations)\n",
    "    all_dof = np.empty(n_iterations)\n",
    "\n",
    "    gpy_model = None\n",
    "    emukit_model = None\n",
    "\n",
    "    # Range DOF from 1 to 10\n",
    "    dof_proposal_space = ParameterSpace([ContinuousParameter('dof_proposal', 1, 10)])\n",
    "    num_initial_dof_points = 5\n",
    "\n",
    "\n",
    "    observed_dof = np.array([])\n",
    "    observed_ess = np.array([])\n",
    "\n",
    "    mu_current = mu_initial\n",
    "    shape_current = shape_initial\n",
    "    dof_proposal = dof_initial\n",
    "\n",
    "    # Initial points\n",
    "    latin_design = LatinDesign(dof_proposal_space)\n",
    "    initial_dof_points = latin_design.get_samples(num_initial_dof_points)\n",
    "\n",
    "    # Iterations\n",
    "    for t in range(n_iterations):\n",
    "\n",
    "\n",
    "        # adaptation of the dof\n",
    "        if t>0:\n",
    "\n",
    "            if t < num_initial_dof_points :\n",
    "                dof_proposal = initial_dof_points[t].item()\n",
    "            else:\n",
    "                if gpy_model is None:\n",
    "                    #declare model\n",
    "                    gpy_model = GPy.models.GPRegression(observed_dof.reshape(-1,1), observed_ess.reshape(-1,1))\n",
    "                    emukit_model = GPyModelWrapper(gpy_model)\n",
    "          \n",
    "                else:\n",
    "                    emukit_model.set_data(observed_dof.reshape(-1,1), observed_ess.reshape(-1,1))#update\n",
    "\n",
    "                beta_param = 2 * np.log((t**2 + 1)*10 / np.sqrt(2*np.pi)) #from Garnett2023 p 229\n",
    "                \n",
    "                acquisition = NegativeLowerConfidenceBound(emukit_model, beta=beta_param) #high beta => exploration, while small beta => exploitation\n",
    "                \n",
    "                optimizer = GradientAcquisitionOptimizer(dof_proposal_space)\n",
    "                x_new, _ = optimizer.optimize(acquisition)\n",
    "                \n",
    "                dof_proposal = x_new.item()\n",
    "\n",
    "        alpha = 1 + 2 / (dof_proposal + D)\n",
    "\n",
    "\n",
    "        # adaptation of mu and shape\n",
    "        if t > 0:\n",
    "\n",
    "            updated_escort_logweights = alpha * log_numerator - log_denominator # weights need to have the escort of pi_tilde in the numerator\n",
    "            updated_normalized_escort_logweights = updated_escort_logweights - logsumexp(updated_escort_logweights)\n",
    "\n",
    "            W = np.exp(updated_normalized_escort_logweights)\n",
    "            mu_current = np.einsum('tmd,tm->d', samples_up_to_now, W)\n",
    "            secnd_moment = np.einsum('tm, tmd, tme -> de', W, samples_up_to_now, samples_up_to_now)\n",
    "            shape_current = secnd_moment - (mu_current.reshape(-1, 1) @ mu_current.reshape(1, -1))\n",
    "\n",
    "        # sampling and computing of the ESS\n",
    "\n",
    "        current_proposal = multivariate_t(loc=mu_current, shape=shape_current, df=dof_proposal)\n",
    "        proposals_over_iterations.append(current_proposal)\n",
    "\n",
    "        samples_current = np.transpose([current_proposal.rvs(size=M)]) # Draw M samples from current proposal\n",
    "        all_samples[t, :] = samples_current  # this adds to the existing list of samples, does not override\n",
    "        samples_up_to_now = all_samples[:t + 1, :, :]\n",
    "\n",
    "        # Numerator\n",
    "        for m in range(M):\n",
    "            evaluations_target_logpdf[t, m] = log_pi_tilde(samples_current[m, :])  # log_pi_tilde may not be broasdact-compatible\n",
    "\n",
    "        log_numerator = evaluations_target_logpdf[:t + 1, :]  # t+1 since including current ones !\n",
    "\n",
    "        # Computing the DM weights in the denominator\n",
    "        current_only_log_denominator = current_proposal.logpdf(samples_current)\n",
    "        mixture_denominator_evaluations[t, :] = np.exp(current_only_log_denominator)\n",
    "\n",
    "        for tau in range(t):\n",
    "            # this loop is only entered if t>0\n",
    "            mixture_denominator_evaluations[tau, :] += np.exp(current_proposal.logpdf(all_samples[tau, :]))\n",
    "            mixture_denominator_evaluations[t, :] += np.exp(proposals_over_iterations[tau].logpdf(samples_current))\n",
    "\n",
    "        log_denominator = - np.log(t + 1) + np.log(mixture_denominator_evaluations[:t + 1, :])\n",
    "\n",
    "\n",
    "        # Computing Z and the ESS\n",
    "\n",
    "        updated_logweights = log_numerator - log_denominator\n",
    "        logsumexp_logweights = logsumexp(updated_logweights)\n",
    "        updated_normalized_logweights = updated_logweights - logsumexp_logweights\n",
    "\n",
    "        estimate_Z = np.exp(logsumexp_logweights) / (M * (t + 1))  # weights need to have only pi_tilde in the numerator (no escort)\n",
    "        all_estimate_Z[t] = estimate_Z\n",
    "\n",
    "        current_only_logweights = evaluations_target_logpdf[t, :] - current_only_log_denominator\n",
    "        current_only_normalized_logweights = current_only_logweights - logsumexp(current_only_logweights)\n",
    "\n",
    "        current_only_alphaESS = np.exp(logsumexp(alpha * current_only_normalized_logweights)) ** (1 / (1 - alpha))\n",
    "        current_only_ESS = 1 / np.exp(logsumexp(2 * current_only_normalized_logweights))\n",
    "\n",
    "        if t>0:\n",
    "            observed_dof = np.append(observed_dof, np.array([dof_proposal]), axis=0)\n",
    "            observed_ess = np.append(observed_ess, np.array([np.log(1 -(1 / M) * current_only_alphaESS)]), axis=0)\n",
    "            \n",
    "        all_alphaESS[t] = (1 / M) * current_only_alphaESS\n",
    "        all_ESS[t] = (1 / M) * current_only_ESS\n",
    "        all_dof[t] = dof_proposal\n",
    "\n",
    "\n",
    "    return multivariate_t(loc=mu_current, shape=shape_current, df=dof_proposal)"
   ]
  },
  {
   "cell_type": "code",
   "execution_count": 5,
   "id": "0c710b5b",
   "metadata": {
    "ExecuteTime": {
     "end_time": "2023-10-05T19:54:10.136979Z",
     "start_time": "2023-10-05T19:54:10.040415Z"
    }
   },
   "outputs": [],
   "source": [
    "dof_target = 1\n",
    "target = multivariate_t([0.0], [1.0], dof_target)"
   ]
  },
  {
   "cell_type": "code",
   "execution_count": 6,
   "id": "b01e997c",
   "metadata": {
    "ExecuteTime": {
     "end_time": "2023-10-05T19:54:10.137331Z",
     "start_time": "2023-10-05T19:54:10.052875Z"
    }
   },
   "outputs": [
    {
     "data": {
      "text/plain": "array(0.45510646)"
     },
     "execution_count": 6,
     "metadata": {},
     "output_type": "execute_result"
    }
   ],
   "source": [
    "mu_initial = np.array(multivariate_normal([0.0], [1.0]).rvs())\n",
    "shape_initial = np.array([5.0])\n",
    "n_iterations = 20\n",
    "log_pi_tilde = target.logpdf\n",
    "dof_proposal = 3\n",
    "M = 10000\n",
    "D = 1\n",
    "mu_initial"
   ]
  },
  {
   "cell_type": "code",
   "execution_count": 7,
   "id": "0fd224cb",
   "metadata": {
    "ExecuteTime": {
     "end_time": "2023-10-05T19:54:12.254225Z",
     "start_time": "2023-10-05T19:54:10.063197Z"
    }
   },
   "outputs": [],
   "source": [
    "proposal_1 = AMIS_fixed_dof(mu_initial,shape_initial, n_iterations, log_pi_tilde, dof_proposal, M, D)"
   ]
  },
  {
   "cell_type": "code",
   "execution_count": 8,
   "id": "45de6df2",
   "metadata": {
    "ExecuteTime": {
     "end_time": "2023-10-05T19:54:14.866925Z",
     "start_time": "2023-10-05T19:54:12.249854Z"
    }
   },
   "outputs": [],
   "source": [
    "proposal_2 = escortAMIS_fixed_dof(mu_initial,shape_initial, n_iterations, log_pi_tilde, dof_proposal, M, D)"
   ]
  },
  {
   "cell_type": "code",
   "execution_count": 9,
   "id": "c846c1eb",
   "metadata": {
    "ExecuteTime": {
     "end_time": "2023-10-05T19:54:19.135965Z",
     "start_time": "2023-10-05T19:54:14.819478Z"
    }
   },
   "outputs": [],
   "source": [
    "proposal_3 = escortAMIS_adapted_dof(mu_initial,shape_initial, n_iterations, log_pi_tilde, dof_proposal, M, D)"
   ]
  },
  {
   "cell_type": "code",
   "execution_count": 17,
   "id": "e0db537c",
   "metadata": {
    "ExecuteTime": {
     "end_time": "2023-10-05T19:59:32.875447Z",
     "start_time": "2023-10-05T19:59:32.458318Z"
    }
   },
   "outputs": [
    {
     "data": {
      "text/plain": "<Figure size 640x480 with 1 Axes>",
      "image/png": "[encoded data removed]"
     },
     "metadata": {},
     "output_type": "display_data"
    }
   ],
   "source": [
    "plt.rc('font', family='serif', size=18)\n",
    "plt.rc('axes', labelsize=25, titlesize=20, labelpad=20)  # Adjusting axes parameters\n",
    "plt.rc('xtick', labelsize=20)  # Adjusting xtick parameters\n",
    "plt.rc('ytick', labelsize=20)  # Adjusting ytick parameters\n",
    "plt.rc('legend', fontsize=16)  # Adjusting legend parameters\n",
    "plt.rc('legend', handlelength=1)  # e.g., shorter lines\n",
    "\n",
    "#plotting\n",
    "x = np.arange(-10.0, 10.0, 0.1)\n",
    "fig = plt.figure()\n",
    "plt.fill_between(x, target.pdf(x), label=r'True target', color='lavender')\n",
    "plt.plot(x, proposal_3.pdf(x), label=r'Our method with $\\nu$ adaptation', color='green')\n",
    "plt.plot(x, proposal_2.pdf(x), label=r'Our method without $\\nu$ adaptation', color='yellowgreen')\n",
    "plt.plot(x, proposal_1.pdf(x), label=r'Moment-matching', color='red')\n",
    "\n",
    "plt.tight_layout()\n",
    "plt.legend(loc='upper left')\n",
    "plt.savefig(\"oneDimensionalComparisonPlot.pdf\",bbox_inches=\"tight\")"
   ]
  },
  {
   "cell_type": "code",
   "execution_count": 10,
   "id": "71fbdafa",
   "metadata": {
    "ExecuteTime": {
     "end_time": "2023-10-05T19:54:31.610586Z",
     "start_time": "2023-10-05T19:54:31.484701Z"
    }
   },
   "outputs": [],
   "source": []
  }
 ],
 "metadata": {
  "kernelspec": {
   "display_name": "Python 3 (ipykernel)",
   "language": "python",
   "name": "python3"
  },
  "language_info": {
   "codemirror_mode": {
    "name": "ipython",
    "version": 3
   },
   "file_extension": ".py",
   "mimetype": "text/x-python",
   "name": "python",
   "nbconvert_exporter": "python",
   "pygments_lexer": "ipython3",
   "version": "3.8.10"
  }
 },
 "nbformat": 4,
 "nbformat_minor": 5
}
